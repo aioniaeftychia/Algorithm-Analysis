{
 "cells": [
  {
   "metadata": {
    "ExecuteTime": {
     "end_time": "2024-10-23T22:42:31.871149Z",
     "start_time": "2024-10-23T22:42:31.374305Z"
    }
   },
   "cell_type": "code",
   "source": [
    "from math import floor\n",
    "\n",
    "import numpy as np\n",
    "import pandas as pd\n",
    "from soupsieve import closest"
   ],
   "id": "8c705f8ba0d0323b",
   "outputs": [],
   "execution_count": 1
  },
  {
   "metadata": {},
   "cell_type": "markdown",
   "source": "## Function for generating random numbers",
   "id": "945e8fb45b184ebf"
  },
  {
   "metadata": {
    "ExecuteTime": {
     "end_time": "2024-10-23T22:42:31.878323Z",
     "start_time": "2024-10-23T22:42:31.875156Z"
    }
   },
   "cell_type": "code",
   "source": [
    "import random as rd\n",
    "\n",
    "def get_random_list(size):\n",
    "    random_list = (rd.sample(range(-size, size), size))\n",
    "    return random_list"
   ],
   "id": "d8a28e78c07deaf3",
   "outputs": [],
   "execution_count": 2
  },
  {
   "metadata": {
    "ExecuteTime": {
     "end_time": "2024-10-23T22:42:32.053428Z",
     "start_time": "2024-10-23T22:42:32.049741Z"
    }
   },
   "cell_type": "code",
   "source": [
    "size = pow(2,5)\n",
    "random_list = get_random_list(size)\n",
    "print(random_list)"
   ],
   "id": "dd96a5e39a0deadf",
   "outputs": [
    {
     "name": "stdout",
     "output_type": "stream",
     "text": [
      "[22, 29, -21, 30, -22, -30, 26, 14, 3, -7, -15, -6, 13, -19, -25, -18, 9, -16, 24, 31, -32, 4, -27, 10, 0, -26, -1, 20, -5, -10, 15, 12]\n"
     ]
    }
   ],
   "execution_count": 3
  },
  {
   "metadata": {},
   "cell_type": "markdown",
   "source": "## Function for generating random set of points",
   "id": "5493fa676d450897"
  },
  {
   "metadata": {
    "ExecuteTime": {
     "end_time": "2024-10-23T22:42:32.063497Z",
     "start_time": "2024-10-23T22:42:32.060026Z"
    }
   },
   "cell_type": "code",
   "source": [
    "def get_random_points(size):\n",
    "    x_list = get_random_list(size)\n",
    "    y_list = get_random_list(size)\n",
    "    \n",
    "    random_points = np.column_stack((x_list, y_list))\n",
    "    \n",
    "    return random_points    "
   ],
   "id": "447f50496da74be9",
   "outputs": [],
   "execution_count": 4
  },
  {
   "metadata": {
    "ExecuteTime": {
     "end_time": "2024-10-23T22:42:32.084507Z",
     "start_time": "2024-10-23T22:42:32.079666Z"
    }
   },
   "cell_type": "code",
   "source": [
    "size = pow(2,3)\n",
    "points_list = get_random_points(size)\n",
    "print(points_list)"
   ],
   "id": "812a497eb774d886",
   "outputs": [
    {
     "name": "stdout",
     "output_type": "stream",
     "text": [
      "[[ 5 -6]\n",
      " [-3  2]\n",
      " [-2  5]\n",
      " [ 2  4]\n",
      " [-8 -8]\n",
      " [ 3 -1]\n",
      " [ 7 -2]\n",
      " [-4  0]]\n"
     ]
    }
   ],
   "execution_count": 5
  },
  {
   "metadata": {},
   "cell_type": "markdown",
   "source": "## Function for calculating Euclidian Distance",
   "id": "d60c93a512fe6fd9"
  },
  {
   "metadata": {
    "ExecuteTime": {
     "end_time": "2024-10-23T22:44:41.213826Z",
     "start_time": "2024-10-23T22:44:41.207374Z"
    }
   },
   "cell_type": "code",
   "source": [
    "def euclidean_distance(p1, p2):\n",
    "    d = np.sqrt(((p1[0] - p2[0]) ** 2) + ((p1[1] - p2[1]) ** 2))\n",
    "    return d"
   ],
   "id": "ded9b425c2ab5635",
   "outputs": [],
   "execution_count": 22
  },
  {
   "metadata": {},
   "cell_type": "markdown",
   "source": "## Function for visualizing points",
   "id": "8fac96443e4cff73"
  },
  {
   "metadata": {
    "ExecuteTime": {
     "end_time": "2024-10-24T00:45:10.915036Z",
     "start_time": "2024-10-24T00:45:10.904095Z"
    }
   },
   "cell_type": "code",
   "source": [
    "import matplotlib.pyplot as plt\n",
    "\n",
    "def plot_points(points, closest_pair=None, width=10, height=10):\n",
    "    x_points = points[:,0]\n",
    "    y_points = points[:,1]\n",
    "    \n",
    "    plt.figure(figsize=(width, height))\n",
    "    if closest_pair is not None:\n",
    "        plt.plot(closest_pair[:,0], closest_pair[:,1], color = 'r')\n",
    "    plt.plot(x_points, y_points, 'o')\n",
    "    plt.xlabel('x-axis')\n",
    "    plt.ylabel('y-axis')\n",
    "    plt.title('Random points set')\n",
    "    plt.xticks(np.arange(min(x_points), max(x_points)+1, 1.0))\n",
    "    plt.yticks(np.arange(min(y_points), max(y_points)+1, 1.0))\n",
    "    plt.grid()\n",
    "    plt.show()"
   ],
   "id": "6301f277f3d4ee9b",
   "outputs": [],
   "execution_count": 205
  },
  {
   "metadata": {
    "ExecuteTime": {
     "end_time": "2024-10-23T23:59:28.802579Z",
     "start_time": "2024-10-23T23:59:28.618813Z"
    }
   },
   "cell_type": "code",
   "source": "plot_points(points_list)\n",
   "id": "4db28cb39f2be2b4",
   "outputs": [
    {
     "data": {
      "text/plain": [
       "<Figure size 640x480 with 1 Axes>"
      ],
      "image/png": "[encoded data removed]"
     },
     "metadata": {},
     "output_type": "display_data"
    }
   ],
   "execution_count": 122
  },
  {
   "metadata": {},
   "cell_type": "markdown",
   "source": "## Brute force approach to closest pair",
   "id": "7d5e6b2c416349f8"
  },
  {
   "metadata": {
    "ExecuteTime": {
     "end_time": "2024-10-23T22:42:32.589762Z",
     "start_time": "2024-10-23T22:42:32.584985Z"
    }
   },
   "cell_type": "code",
   "source": [
    "def brute_force_closest_pair(points_list):\n",
    "    d = euclidean_distance(points_list[0], points_list[1])\n",
    "    closest_pair = np.array([points_list[0]])\n",
    "    closest_pair = np.append(closest_pair, [points_list[1]], axis=0)\n",
    "    \n",
    "    \n",
    "    for i in range (0, len(points_list)):\n",
    "        for j in range (i+1, len(points_list)):\n",
    "            if euclidean_distance(points_list[i], points_list[j]) < d:\n",
    "                d = euclidean_distance(points_list[i], points_list[j])\n",
    "                closest_pair = np.array([points_list[i]])\n",
    "                closest_pair = np.append(closest_pair, [points_list[j]], axis=0)\n",
    "    return d, closest_pair"
   ],
   "id": "4de4dc4233dfbaf5",
   "outputs": [],
   "execution_count": 9
  },
  {
   "metadata": {
    "ExecuteTime": {
     "end_time": "2024-10-24T00:50:24.343399Z",
     "start_time": "2024-10-24T00:50:23.310127Z"
    }
   },
   "cell_type": "code",
   "source": [
    "size = pow(2,10)\n",
    "points_list = get_random_points(size)\n",
    "distance, closest_pair = brute_force_closest_pair(points_list)\n",
    "# plot_points(points_list, closest_pair)"
   ],
   "id": "cadf84a9f572bba1",
   "outputs": [],
   "execution_count": 213
  },
  {
   "metadata": {},
   "cell_type": "markdown",
   "source": "## Merge Sort",
   "id": "cdfbffd79822c05c"
  },
  {
   "metadata": {},
   "cell_type": "markdown",
   "source": "### Merge function",
   "id": "2c657591f383fb0c"
  },
  {
   "metadata": {
    "ExecuteTime": {
     "end_time": "2024-10-24T00:04:57.861345Z",
     "start_time": "2024-10-24T00:04:57.850903Z"
    }
   },
   "cell_type": "code",
   "source": [
    "def merge(left_start, left_end, right_start, right_end, points_list, mode):\n",
    "    if mode == 'x':\n",
    "        column = 0\n",
    "    elif mode == 'y':\n",
    "        column = 1\n",
    "    temp_list = np.empty((len(points_list),2), dtype=int)\n",
    "    i = 0\n",
    "    j = 0\n",
    "    for i in range(left_end, left_start-1, -1):\n",
    "        temp_list[i] = points_list[i]\n",
    "\n",
    "    for j in range(right_start, right_end+1):\n",
    "        temp_list[right_end+right_start-j] = points_list[j]\n",
    "    \n",
    "    i = left_start\n",
    "    j = right_end\n",
    "    for k in range(left_start, right_end+1):\n",
    "        if temp_list[i][column] < temp_list[j][column]:\n",
    "            points_list[k] = temp_list[i]\n",
    "            i += 1\n",
    "        else:\n",
    "            points_list[k] = temp_list[j]\n",
    "            j -= 1\n",
    "            \n",
    "    return points_list"
   ],
   "id": "ff20048c8b293097",
   "outputs": [],
   "execution_count": 134
  },
  {
   "metadata": {
    "ExecuteTime": {
     "end_time": "2024-10-24T00:04:59.744534Z",
     "start_time": "2024-10-24T00:04:59.736762Z"
    }
   },
   "cell_type": "code",
   "source": [
    "def merge_sort(left, right, points_list, mode):\n",
    "    if right - left > 0:\n",
    "        mid = int(np.floor((left+right)/2))\n",
    "        points_list = merge_sort(left, mid, points_list, mode)\n",
    "        points_list = merge_sort(mid+1, right, points_list, mode)\n",
    "        points_list = merge(left, mid, mid+1, right, points_list, mode)\n",
    "        return points_list\n",
    "    return points_list"
   ],
   "id": "49903f015e4eeceb",
   "outputs": [],
   "execution_count": 135
  },
  {
   "metadata": {},
   "cell_type": "markdown",
   "source": "## Divide and conquer approach to closest pair",
   "id": "4b93f822123d5949"
  },
  {
   "metadata": {},
   "cell_type": "markdown",
   "source": "### Sorting points by x-axis",
   "id": "d28cbda37809a24f"
  },
  {
   "metadata": {
    "ExecuteTime": {
     "end_time": "2024-10-23T22:42:32.720577Z",
     "start_time": "2024-10-23T22:42:32.716538Z"
    }
   },
   "cell_type": "code",
   "source": [
    "size = pow(2,3)\n",
    "points_list = get_random_points(size)\n",
    "print(points_list)\n",
    "points_list = merge_sort(0, len(points_list)-1, points_list, 'x')\n",
    "# print(points_list)\n",
    "for point in points_list:\n",
    "    print(point)"
   ],
   "id": "62f5b4179ea0624c",
   "outputs": [
    {
     "name": "stdout",
     "output_type": "stream",
     "text": [
      "[[-8 -1]\n",
      " [ 1 -8]\n",
      " [-1 -4]\n",
      " [ 4 -2]\n",
      " [-5  3]\n",
      " [-4 -7]\n",
      " [ 7  1]\n",
      " [-2  6]]\n",
      "[-8 -1]\n",
      "[-5  3]\n",
      "[-4 -7]\n",
      "[-2  6]\n",
      "[-1 -4]\n",
      "[ 1 -8]\n",
      "[ 4 -2]\n",
      "[7 1]\n"
     ]
    }
   ],
   "execution_count": 13
  },
  {
   "metadata": {},
   "cell_type": "markdown",
   "source": "### Create strip",
   "id": "9dbc312edcfaa2cb"
  },
  {
   "metadata": {
    "ExecuteTime": {
     "end_time": "2024-10-24T00:38:34.002912Z",
     "start_time": "2024-10-24T00:38:33.992033Z"
    }
   },
   "cell_type": "code",
   "source": [
    "def create_strip(points_list, d, mid_point):\n",
    "    strip = np.empty((0,2), dtype=int)\n",
    "    for point in points_list:\n",
    "        if abs(point[0] - mid_point[0]) < d:\n",
    "            strip = np.append(strip, [point], axis=0)\n",
    "            \n",
    "    return strip"
   ],
   "id": "a556677afb071f30",
   "outputs": [],
   "execution_count": 172
  },
  {
   "metadata": {},
   "cell_type": "markdown",
   "source": "### Finding closest pair",
   "id": "fa70f4abf94ca34c"
  },
  {
   "metadata": {
    "ExecuteTime": {
     "end_time": "2024-10-24T00:38:35.988213Z",
     "start_time": "2024-10-24T00:38:35.976024Z"
    }
   },
   "cell_type": "code",
   "source": [
    "def closest_pair_divide_and_conquer(d, points_list):\n",
    "    if len(points_list) <= 3:\n",
    "        d, closest_pair = brute_force_closest_pair(points_list)\n",
    "        points_list = merge_sort(0, len(points_list)-1, points_list, 'y')\n",
    "        return d, points_list, closest_pair\n",
    "    mid = int(np.floor(len(points_list)/2))\n",
    "    mid_point = points_list[mid]\n",
    "    d1, points_list1, closest_pair1 = closest_pair_divide_and_conquer(d, points_list[0:mid])\n",
    "    d2, points_list2, closest_pair2 = closest_pair_divide_and_conquer(d, points_list[mid:len(points_list)])\n",
    "    points_list = np.concatenate((points_list1, points_list2), axis=0)\n",
    "    points_list = merge_sort(0, len(points_list)-1, points_list, 'y')\n",
    "    d = min(d1, d2)\n",
    "    closest_pair = closest_pair1 if d == d1 else closest_pair2\n",
    "    strip = create_strip(points_list, d, mid_point)\n",
    "    \n",
    "    for i in range(len(strip)):\n",
    "        j=1\n",
    "        while (i + j) < len(strip) and j <= 7:\n",
    "            if euclidean_distance(strip[i], strip[i+j]) < d:\n",
    "                d = euclidean_distance(strip[i], strip[i+j])\n",
    "                closest_pair = np.array([strip[i]])\n",
    "                closest_pair = np.append(closest_pair, [strip[i+j]], axis=0)\n",
    "            j+=1\n",
    "    return d, points_list, closest_pair   "
   ],
   "id": "9af3e4e31f62a2ae",
   "outputs": [],
   "execution_count": 173
  },
  {
   "metadata": {
    "ExecuteTime": {
     "end_time": "2024-10-24T00:51:11.366887Z",
     "start_time": "2024-10-24T00:51:11.338144Z"
    }
   },
   "cell_type": "code",
   "source": [
    "size = pow(2,10)\n",
    "points_list = get_random_points(size)\n",
    "points_list = merge_sort(0, len(points_list)-1, points_list, 'x')\n",
    "d = euclidean_distance(points_list[0], points_list[1])\n",
    "# plot_points(points_list, closest_pair, 20, 15)"
   ],
   "id": "cfba73cd14a86ef1",
   "outputs": [],
   "execution_count": 214
  },
  {
   "metadata": {
    "ExecuteTime": {
     "end_time": "2024-10-24T00:51:14.234772Z",
     "start_time": "2024-10-24T00:51:13.998520Z"
    }
   },
   "cell_type": "code",
   "source": "distance, points_list, closest_pair = closest_pair_divide_and_conquer(d,points_list)",
   "id": "8c68d15016de7974",
   "outputs": [],
   "execution_count": 215
  },
  {
   "metadata": {
    "ExecuteTime": {
     "end_time": "2024-10-24T00:45:15.467491Z",
     "start_time": "2024-10-24T00:45:14.926203Z"
    }
   },
   "cell_type": "code",
   "source": [
    "points_list = merge_sort(0, len(points_list)-1, points_list, 'x')\n",
    "distance, points_list, closest_pair = closest_pair_divide_and_conquer(d,points_list)\n",
    "plot_points(points_list, closest_pair, 20, 20)"
   ],
   "id": "c12f3f708f76478b",
   "outputs": [
    {
     "data": {
      "text/plain": [
       "<Figure size 2000x2000 with 1 Axes>"
      ],
      "image/png": "[encoded data removed]"
     },
     "metadata": {},
     "output_type": "display_data"
    }
   ],
   "execution_count": 206
  },
  {
   "metadata": {
    "ExecuteTime": {
     "end_time": "2024-10-24T00:23:44.711397Z",
     "start_time": "2024-10-24T00:23:44.705832Z"
    }
   },
   "cell_type": "code",
   "source": [
    "print(euclidean_distance(closest_pair[0], closest_pair[1]))\n",
    "print(distance)"
   ],
   "id": "bb733beb6f6f7d5b",
   "outputs": [
    {
     "name": "stdout",
     "output_type": "stream",
     "text": [
      "3.1622776601683795\n",
      "3.1622776601683795\n"
     ]
    }
   ],
   "execution_count": 150
  },
  {
   "metadata": {},
   "cell_type": "code",
   "outputs": [],
   "execution_count": null,
   "source": "",
   "id": "eb97f81ce4734bd3"
  },
  {
   "metadata": {},
   "cell_type": "markdown",
   "source": "## Testing of times",
   "id": "99108bfb67f9e98e"
  },
  {
   "metadata": {
    "ExecuteTime": {
     "end_time": "2024-10-24T00:58:24.452190Z",
     "start_time": "2024-10-24T00:58:24.445923Z"
    }
   },
   "cell_type": "code",
   "source": "power = 13",
   "id": "5c0c829d7d35c442",
   "outputs": [],
   "execution_count": 227
  },
  {
   "metadata": {},
   "cell_type": "markdown",
   "source": [
    "### Brute force\n",
    "#### Setup"
   ],
   "id": "334fd9baf403b14a"
  },
  {
   "metadata": {
    "ExecuteTime": {
     "end_time": "2024-10-24T00:56:21.561552Z",
     "start_time": "2024-10-24T00:56:21.543088Z"
    }
   },
   "cell_type": "code",
   "source": [
    "size = pow(2,power)\n",
    "points_list = get_random_points(size)"
   ],
   "id": "6396e51d6718f7e0",
   "outputs": [],
   "execution_count": 223
  },
  {
   "metadata": {},
   "cell_type": "markdown",
   "source": "#### Execution",
   "id": "b3b399ccf37a08cd"
  },
  {
   "metadata": {
    "ExecuteTime": {
     "end_time": "2024-10-24T00:57:26.538123Z",
     "start_time": "2024-10-24T00:56:24.167368Z"
    }
   },
   "cell_type": "code",
   "source": "d, closest_pair = brute_force_closest_pair(points_list)",
   "id": "e039fff346163a55",
   "outputs": [],
   "execution_count": 224
  },
  {
   "metadata": {},
   "cell_type": "markdown",
   "source": [
    "### Divide and conquer\n",
    "#### Setup"
   ],
   "id": "531541e2f461330"
  },
  {
   "metadata": {
    "ExecuteTime": {
     "end_time": "2024-10-24T00:58:36.629199Z",
     "start_time": "2024-10-24T00:58:36.354538Z"
    }
   },
   "cell_type": "code",
   "source": [
    "size = pow(2,power)\n",
    "points_list = get_random_points(size)\n",
    "points_list = merge_sort(0, len(points_list)-1, points_list, 'x')"
   ],
   "id": "121b1ab3a4ffe94a",
   "outputs": [],
   "execution_count": 228
  },
  {
   "metadata": {},
   "cell_type": "markdown",
   "source": "#### Execution",
   "id": "12ff6945d70f9a4b"
  },
  {
   "metadata": {
    "ExecuteTime": {
     "end_time": "2024-10-24T00:58:40.891026Z",
     "start_time": "2024-10-24T00:58:39.057213Z"
    }
   },
   "cell_type": "code",
   "source": "d, points_list, closest_pair = closest_pair_divide_and_conquer(d,points_list)",
   "id": "6616c93b52247caf",
   "outputs": [],
   "execution_count": 229
  },
  {
   "metadata": {},
   "cell_type": "markdown",
   "source": "",
   "id": "1efd61877239c060"
  },
  {
   "metadata": {},
   "cell_type": "markdown",
   "source": "",
   "id": "4fcd8467f21b1447"
  },
  {
   "metadata": {},
   "cell_type": "markdown",
   "source": "",
   "id": "3da325181aefc607"
  }
 ],
 "metadata": {
  "kernelspec": {
   "display_name": "Python 3",
   "language": "python",
   "name": "python3"
  },
  "language_info": {
   "codemirror_mode": {
    "name": "ipython",
    "version": 2
   },
   "file_extension": ".py",
   "mimetype": "text/x-python",
   "name": "python",
   "nbconvert_exporter": "python",
   "pygments_lexer": "ipython2",
   "version": "2.7.6"
  }
 },
 "nbformat": 4,
 "nbformat_minor": 5
}
